{
 "cells": [
  {
   "cell_type": "code",
   "execution_count": 80,
   "metadata": {},
   "outputs": [],
   "source": [
    "import nltk\n",
    "import numpy as np\n",
    "import random\n",
    "import string"
   ]
  },
  {
   "cell_type": "code",
   "execution_count": 81,
   "metadata": {},
   "outputs": [],
   "source": [
    "f=open('nlp.txt','r',errors = 'ignore')\n",
    "text=f.read()\n",
    "text=text.lower()\n",
    "\n",
    "sentence_tokens = nltk.sent_tokenize(text)\n",
    "words_tokens = nltk.word_tokenize(text)"
   ]
  },
  {
   "cell_type": "code",
   "execution_count": 82,
   "metadata": {},
   "outputs": [],
   "source": [
    "# sentence_tokens[:5]\n"
   ]
  },
  {
   "cell_type": "code",
   "execution_count": 83,
   "metadata": {},
   "outputs": [],
   "source": [
    "# words_tokens[:5]"
   ]
  },
  {
   "cell_type": "code",
   "execution_count": 84,
   "metadata": {},
   "outputs": [],
   "source": [
    "lemma = nltk.stem.WordNetLemmatizer()"
   ]
  },
  {
   "cell_type": "code",
   "execution_count": 85,
   "metadata": {},
   "outputs": [],
   "source": [
    "def LemmaTokens(tokens):\n",
    "    return [lemma.lemmatize(token) for token in tokens]\n",
    "\n",
    "remove_punctuation = dict((ord(punct), None) for punct in string.punctuation)\n",
    "\n",
    "def LemmaNormalize(text):\n",
    "    return LemmaTokens(nltk.word_tokenize(text.lower().translate(remove_punctuation)))"
   ]
  },
  {
   "cell_type": "code",
   "execution_count": 86,
   "metadata": {},
   "outputs": [],
   "source": [
    "User_Greeting = (\"hello\", \"hi\", \"greetings\", \"sup\", \"what's up\",\"hey\",)\n",
    "Chatbot_Response = [\"hi\", \"hey\", \"*nods*\", \"hi there\", \"hello\", \"I am glad! You are talking to me\"]\n",
    "def greeting(sentence):\n",
    " \n",
    "    for word in sentence.split():\n",
    "        if word.lower() in User_Greeting:\n",
    "            return random.choice(Chatbot_Response)"
   ]
  },
  {
   "cell_type": "code",
   "execution_count": 87,
   "metadata": {},
   "outputs": [],
   "source": [
    "from sklearn.feature_extraction.text import TfidfVectorizer as tdfv\n",
    "from sklearn.metrics.pairwise import cosine_similarity as cs"
   ]
  },
  {
   "cell_type": "code",
   "execution_count": 88,
   "metadata": {},
   "outputs": [],
   "source": [
    "def response(my_response):\n",
    "    ritz_response=''\n",
    "    sentence_tokens.append(my_response)\n",
    "    TfidfV = tdfv(tokenizer=LemmaNormalize, stop_words='english')\n",
    "    Tfdf = TfidfV.fit_transform(sentence_tokens)\n",
    "    cosine = cs(Tfdf[-1], Tfdf)\n",
    "    index=cosine.argsort()[0][-2]\n",
    "    to_flat = cosine.flatten()\n",
    "    to_flat.sort()\n",
    "    required_tfidf = to_flat[-2]\n",
    "    if(required_tfidf==0):\n",
    "        ritz_response=ritz_response+\"I'm sorry , can you please repeat?\"\n",
    "        return ritz_response\n",
    "    else:\n",
    "        ritz_response = ritz_response+sentence_tokens[index]\n",
    "        return ritz_response"
   ]
  },
  {
   "cell_type": "code",
   "execution_count": null,
   "metadata": {},
   "outputs": [
    {
     "name": "stdout",
     "output_type": "stream",
     "text": [
      "Ritz: Hello my name is Ritz. I am here to answer all your queries. If you don't have any, type bye!\n",
      "hello\n",
      "Ritz: hi there\n",
      "what are challenges in nlp\n",
      "Ritz: challenges in natural language processing frequently involve speech recognition, natural language understanding, and natural language generation.\n",
      "alan turing\n",
      "Ritz: in 1950, alan turing published an article titled \"intelligence\" which proposed what is now called the turing test as a criterion of intelligence.\n"
     ]
    }
   ],
   "source": [
    "flag=True\n",
    "print(\"Ritz: Hello my name is Ritz. I am here to answer all your queries. If you don't have any, type bye!\")\n",
    "while(flag==True):\n",
    "    my_response = input()\n",
    "    my_response=my_response.lower()\n",
    "    if(my_response!='bye'):\n",
    "        if(my_response=='thanks' or my_response=='thank you' ):\n",
    "            flag=False\n",
    "            print(\"Ritz: You are welcome..\")\n",
    "        else:\n",
    "            if(greeting(my_response)!=None):\n",
    "                print(\"Ritz: \"+greeting(my_response))\n",
    "            else:\n",
    "                print(\"Ritz: \",end=\"\")\n",
    "                \n",
    "                print(response(my_response))\n",
    "                sentence_tokens.remove(my_response)\n",
    "    else:\n",
    "        flag=False\n",
    "        print(\"Ritz: Bye! take care..\")"
   ]
  },
  {
   "cell_type": "code",
   "execution_count": null,
   "metadata": {},
   "outputs": [],
   "source": []
  }
 ],
 "metadata": {
  "kernelspec": {
   "display_name": "Python 3",
   "language": "python",
   "name": "python3"
  },
  "language_info": {
   "codemirror_mode": {
    "name": "ipython",
    "version": 3
   },
   "file_extension": ".py",
   "mimetype": "text/x-python",
   "name": "python",
   "nbconvert_exporter": "python",
   "pygments_lexer": "ipython3",
   "version": "3.6.8"
  }
 },
 "nbformat": 4,
 "nbformat_minor": 2
}
